{
 "cells": [
  {
   "cell_type": "code",
   "execution_count": 1,
   "metadata": {},
   "outputs": [],
   "source": [
    "from nuscenes import NuScenes\n",
    "import numpy as np\n",
    "import pickle as pkl\n",
    "from nuscenes.eval.prediction.splits import get_prediction_challenge_split"
   ]
  },
  {
   "cell_type": "code",
   "execution_count": 2,
   "metadata": {},
   "outputs": [
    {
     "name": "stdout",
     "output_type": "stream",
     "text": [
      "======\n",
      "Loading NuScenes tables for version v1.0-mini...\n",
      "23 category,\n",
      "8 attribute,\n",
      "4 visibility,\n",
      "911 instance,\n",
      "12 sensor,\n",
      "120 calibrated_sensor,\n",
      "31206 ego_pose,\n",
      "8 log,\n",
      "10 scene,\n",
      "404 sample,\n",
      "31206 sample_data,\n",
      "18538 sample_annotation,\n",
      "4 map,\n",
      "Done loading in 0.315 seconds.\n",
      "======\n",
      "Reverse indexing ...\n",
      "Done reverse indexing in 0.1 seconds.\n",
      "======\n"
     ]
    }
   ],
   "source": [
    "DATAROOT = '/home/captainlevi/Documents/UCSD_lab_project/AVL/data/nuScenes_dataset/nuscenes_pgp/nuscenes_mini'\n",
    "nuscenes = NuScenes('v1.0-mini', dataroot=DATAROOT)\n",
    "\n",
    "# DATAROOT = '/home/captainlevi/Documents/UCSD_lab_project/AVL/data/nuScenes_dataset/nuscenes_pgp/nuscenes_trainval'\n",
    "# nuscenes = NuScenes('v1.0-trainval', dataroot=DATAROOT)"
   ]
  },
  {
   "cell_type": "code",
   "execution_count": 3,
   "metadata": {},
   "outputs": [
    {
     "name": "stdout",
     "output_type": "stream",
     "text": [
      "404\n"
     ]
    }
   ],
   "source": [
    "# list all sample tokens\n",
    "\n",
    "sample_tokens = nuscenes.sample\n",
    "print(len(sample_tokens))"
   ]
  },
  {
   "cell_type": "code",
   "execution_count": 4,
   "metadata": {},
   "outputs": [
    {
     "data": {
      "text/plain": [
       "{'token': 'ca9a282c9e77460f8360f564131a8af5',\n",
       " 'timestamp': 1532402927647951,\n",
       " 'prev': '',\n",
       " 'next': '39586f9d59004284a7114a68825e8eec',\n",
       " 'scene_token': 'cc8c0bf57f984915a77078b10eb33198',\n",
       " 'data': {'RADAR_FRONT': '37091c75b9704e0daa829ba56dfa0906',\n",
       "  'RADAR_FRONT_LEFT': '11946c1461d14016a322916157da3c7d',\n",
       "  'RADAR_FRONT_RIGHT': '491209956ee3435a9ec173dad3aaf58b',\n",
       "  'RADAR_BACK_LEFT': '312aa38d0e3e4f01b3124c523e6f9776',\n",
       "  'RADAR_BACK_RIGHT': '07b30d5eb6104e79be58eadf94382bc1',\n",
       "  'LIDAR_TOP': '9d9bf11fb0e144c8b446d54a8a00184f',\n",
       "  'CAM_FRONT': 'e3d495d4ac534d54b321f50006683844',\n",
       "  'CAM_FRONT_RIGHT': 'aac7867ebf4f446395d29fbd60b63b3b',\n",
       "  'CAM_BACK_RIGHT': '79dbb4460a6b40f49f9c150cb118247e',\n",
       "  'CAM_BACK': '03bea5763f0f4722933508d5999c5fd8',\n",
       "  'CAM_BACK_LEFT': '43893a033f9c46d4a51b5e08a67a1eb7',\n",
       "  'CAM_FRONT_LEFT': 'fe5422747a7d4268a4b07fc396707b23'},\n",
       " 'anns': ['ef63a697930c4b20a6b9791f423351da',\n",
       "  '6b89da9bf1f84fd6a5fbe1c3b236f809',\n",
       "  '924ee6ac1fed440a9d9e3720aac635a0',\n",
       "  '91e3608f55174a319246f361690906ba',\n",
       "  'cd051723ed9c40f692b9266359f547af',\n",
       "  '36d52dfedd764b27863375543c965376',\n",
       "  '70af124fceeb433ea73a79537e4bea9e',\n",
       "  '63b89fe17f3e41ecbe28337e0e35db8e',\n",
       "  'e4a3582721c34f528e3367f0bda9485d',\n",
       "  'fcb2332977ed4203aa4b7e04a538e309',\n",
       "  'a0cac1c12246451684116067ae2611f6',\n",
       "  '02248ff567e3497c957c369dc9a1bd5c',\n",
       "  '9db977e264964c2887db1e37113cddaa',\n",
       "  'ca9c5dd6cf374aa980fdd81022f016fd',\n",
       "  '179b8b54ee74425893387ebc09ee133d',\n",
       "  '5b990ac640bf498ca7fd55eaf85d3e12',\n",
       "  '16140fbf143d4e26a4a7613cbd3aa0e8',\n",
       "  '54939f11a73d4398b14aeef500bf0c23',\n",
       "  '83d881a6b3d94ef3a3bc3b585cc514f8',\n",
       "  '74986f1604f047b6925d409915265bf7',\n",
       "  'e86330c5538c4858b8d3ffe874556cc5',\n",
       "  'a7bd5bb89e27455bbb3dba89a576b6a1',\n",
       "  'fbd9d8c939b24f0eb6496243a41e8c41',\n",
       "  '198023a1fb5343a5b6fad033ab8b7057',\n",
       "  'ffeafb90ecd5429cba23d0be9a5b54ee',\n",
       "  'cc636a58e27e446cbdd030c14f3718fd',\n",
       "  '076a7e3ec6244d3b84e7df5ebcbac637',\n",
       "  '0603fbaef1234c6c86424b163d2e3141',\n",
       "  'd76bd5dcc62f4c57b9cece1c7bcfabc5',\n",
       "  '5acb6c71bcd64aa188804411b28c4c8f',\n",
       "  '49b74a5f193c4759b203123b58ca176d',\n",
       "  '77519174b48f4853a895f58bb8f98661',\n",
       "  'c5e9455e98bb42c0af7d1990db1df0c9',\n",
       "  'fcc5b4b5c4724179ab24962a39ca6d65',\n",
       "  '791d1ca7e228433fa50b01778c32449a',\n",
       "  '316d20eb238c43ef9ee195642dd6e3fe',\n",
       "  'cda0a9085607438c9b1ea87f4360dd64',\n",
       "  'e865152aaa194f22b97ad0078c012b21',\n",
       "  '7962506dbc24423aa540a5e4c7083dad',\n",
       "  '29cca6a580924b72a90b9dd6e7710d3e',\n",
       "  'a6f7d4bb60374f868144c5ba4431bf4c',\n",
       "  'f1ae3f713ba946069fa084a6b8626fbf',\n",
       "  'd7af8ede316546f68d4ab4f3dbf03f88',\n",
       "  '91cb8f15ed4444e99470d43515e50c1d',\n",
       "  'bc638d33e89848f58c0b3ccf3900c8bb',\n",
       "  '26fb370c13f844de9d1830f6176ebab6',\n",
       "  '7e66fdf908d84237943c833e6c1b317a',\n",
       "  '67c5dbb3ddcc4aff8ec5140930723c37',\n",
       "  'eaf2532c820740ae905bb7ed78fb1037',\n",
       "  '3e2d17fa9aa5484d9cabc1dfca532193',\n",
       "  'de6bd5ffbed24aa59c8891f8d9c32c44',\n",
       "  '9d51d699f635478fbbcd82a70396dd62',\n",
       "  'b7cbc6d0e80e4dfda7164871ece6cb71',\n",
       "  '563a3f547bd64a2f9969278c5ef447fd',\n",
       "  'df8917888b81424f8c0670939e61d885',\n",
       "  'bb3ef5ced8854640910132b11b597348',\n",
       "  'a522ce1d7f6545d7955779f25d01783b',\n",
       "  '1fafb2468af5481ca9967407af219c32',\n",
       "  '05de82bdb8484623906bb9d97ae87542',\n",
       "  'bfedb0d85e164b7697d1e72dd971fb72',\n",
       "  'ca0f85b4f0d44beb9b7ff87b1ab37ff5',\n",
       "  'bca4bbfdef3d4de980842f28be80b3ca',\n",
       "  'a834fb0389a8453c810c3330e3503e16',\n",
       "  '6c804cb7d78943b195045082c5c2d7fa',\n",
       "  'adf1594def9e4722b952fea33b307937',\n",
       "  '49f76277d07541c5a584aa14c9d28754',\n",
       "  '15a3b4d60b514db5a3468e2aef72a90c',\n",
       "  '18cc2837f2b9457c80af0761a0b83ccc',\n",
       "  '2bfcc693ae9946daba1d9f2724478fd4']}"
      ]
     },
     "execution_count": 4,
     "metadata": {},
     "output_type": "execute_result"
    }
   ],
   "source": [
    "sample_tokens[0]"
   ]
  },
  {
   "cell_type": "code",
   "execution_count": 5,
   "metadata": {},
   "outputs": [],
   "source": [
    "all_sample_tokens = []\n",
    "\n",
    "for sample in sample_tokens:\n",
    "    all_sample_tokens.append(sample['token'])"
   ]
  },
  {
   "cell_type": "code",
   "execution_count": 6,
   "metadata": {},
   "outputs": [],
   "source": [
    "with open('/home/captainlevi/Documents/UCSD_lab_project/AVL/MOT/codes/PGP/model_weights/token_list.pkl', 'rb') as f:\n",
    "    token_list_pgp = pkl.load(f)"
   ]
  },
  {
   "cell_type": "code",
   "execution_count": 7,
   "metadata": {},
   "outputs": [
    {
     "data": {
      "text/plain": [
       "32186"
      ]
     },
     "execution_count": 7,
     "metadata": {},
     "output_type": "execute_result"
    }
   ],
   "source": [
    "len(token_list_pgp)"
   ]
  },
  {
   "cell_type": "code",
   "execution_count": 8,
   "metadata": {},
   "outputs": [
    {
     "data": {
      "text/plain": [
       "False"
      ]
     },
     "execution_count": 8,
     "metadata": {},
     "output_type": "execute_result"
    }
   ],
   "source": [
    "random_index = 321\n",
    "pgp_instance, pgp_token = token_list_pgp[random_index].split('_')\n",
    "pgp_token in all_sample_tokens"
   ]
  },
  {
   "cell_type": "code",
   "execution_count": 6,
   "metadata": {},
   "outputs": [],
   "source": [
    "# split_train = \"train\" # Can be \"train\", \"train_val\" or \"val\"\n",
    "\n",
    "# token_instance_list_train = get_prediction_challenge_split(\"train\", dataroot=DATAROOT)\n",
    "token_instance_list_train = get_prediction_challenge_split(\"mini_train\", dataroot=DATAROOT)\n",
    "# token_instance_list_train_val = get_prediction_challenge_split(\"train_val\", dataroot=DATAROOT)\n",
    "token_instance_list_val = get_prediction_challenge_split(\"mini_val\", dataroot=DATAROOT)\n",
    "token_list = get_prediction_challenge_split('val', dataroot=DATAROOT)"
   ]
  },
  {
   "cell_type": "code",
   "execution_count": 7,
   "metadata": {},
   "outputs": [
    {
     "data": {
      "text/plain": [
       "(742, 61, 9041)"
      ]
     },
     "execution_count": 7,
     "metadata": {},
     "output_type": "execute_result"
    }
   ],
   "source": [
    "len(token_instance_list_train), len(token_instance_list_val), len(token_list)"
   ]
  },
  {
   "cell_type": "code",
   "execution_count": 31,
   "metadata": {},
   "outputs": [
    {
     "data": {
      "text/plain": [
       "(205, 40)"
      ]
     },
     "execution_count": 31,
     "metadata": {},
     "output_type": "execute_result"
    }
   ],
   "source": [
    "token_list_train = []\n",
    "token_list_val = []\n",
    "\n",
    "for token_instance in token_instance_list_train:\n",
    "    instance, token = token_instance.split(\"_\")\n",
    "\n",
    "    if token not in token_list_train:\n",
    "        token_list_train.append(token)\n",
    "\n",
    "for token_instance in token_instance_list_val:\n",
    "    instance, token = token_instance.split(\"_\")\n",
    "\n",
    "    if token not in token_list_val:\n",
    "        token_list_val.append(token)\n",
    "\n",
    "len(token_list_train), len(token_list_val)"
   ]
  },
  {
   "cell_type": "code",
   "execution_count": 24,
   "metadata": {},
   "outputs": [
    {
     "data": {
      "text/plain": [
       "'264c5f3a04744d53a72fd07c1bb6a724'"
      ]
     },
     "execution_count": 24,
     "metadata": {},
     "output_type": "execute_result"
    }
   ],
   "source": [
    "token_list_train[123]"
   ]
  },
  {
   "cell_type": "code",
   "execution_count": 32,
   "metadata": {},
   "outputs": [],
   "source": [
    "token_list_mini = token_list_train + token_list_val"
   ]
  },
  {
   "cell_type": "code",
   "execution_count": 33,
   "metadata": {},
   "outputs": [],
   "source": [
    "for token in token_list_mini:\n",
    "    if token not in all_sample_tokens:\n",
    "        print(token)"
   ]
  },
  {
   "cell_type": "code",
   "execution_count": 34,
   "metadata": {},
   "outputs": [],
   "source": [
    "sample11 = nuscenes.get('sample', token_list_train[123])\n",
    "sample22 = nuscenes.get('sample', all_sample_tokens[123])"
   ]
  },
  {
   "cell_type": "code",
   "execution_count": 2,
   "metadata": {},
   "outputs": [
    {
     "name": "stdout",
     "output_type": "stream",
     "text": [
      "======\n",
      "Loading NuScenes tables for version v1.0-test...\n",
      "23 category,\n",
      "8 attribute,\n",
      "4 visibility,\n",
      "0 instance,\n",
      "12 sensor,\n",
      "1800 calibrated_sensor,\n",
      "462901 ego_pose,\n",
      "15 log,\n",
      "150 scene,\n",
      "6008 sample,\n",
      "462901 sample_data,\n",
      "0 sample_annotation,\n",
      "4 map,\n",
      "Done loading in 2.384 seconds.\n",
      "======\n",
      "Reverse indexing ...\n",
      "Done reverse indexing in 0.5 seconds.\n",
      "======\n"
     ]
    }
   ],
   "source": [
    "DATAROOT = '/home/captainlevi/Documents/UCSD_lab_project/AVL/data/nuScenes_dataset/nuScenes/v1.0-test'\n",
    "nuscenes = NuScenes('v1.0-test', dataroot=DATAROOT)"
   ]
  },
  {
   "cell_type": "code",
   "execution_count": 3,
   "metadata": {},
   "outputs": [
    {
     "data": {
      "text/plain": [
       "{'token': '1160d3bc4c1341e9a51838639423f58e',\n",
       " 'timestamp': 1533113893197898,\n",
       " 'prev': '',\n",
       " 'next': '62dc9f6efc0e4706a5f5236474f4d1f3',\n",
       " 'scene_token': 'b2c9bf391e1e4471b5057fccdcc977a6',\n",
       " 'data': {'RADAR_FRONT': 'ffd2d946f91e42b981b7582f95cc10e0',\n",
       "  'RADAR_FRONT_LEFT': 'd927ee12b552465d8ddb1d1c19aa73fc',\n",
       "  'RADAR_FRONT_RIGHT': 'dab1bd7c8f914e688e3de207d3dd6152',\n",
       "  'RADAR_BACK_LEFT': 'eaf98d31763b4aaebaa56496e9af2c99',\n",
       "  'RADAR_BACK_RIGHT': '4da18300ccf649b686a6dfadaf851849',\n",
       "  'LIDAR_TOP': '117141db8f6e4d39b134576fbbc10124',\n",
       "  'CAM_FRONT': '15b15486f9b74e37b6f8cc414a9419da',\n",
       "  'CAM_FRONT_RIGHT': '71f973cf5c3b4577b59fa0e9e894bc27',\n",
       "  'CAM_BACK_RIGHT': 'e9bbd46fad6b47e095cbb53cc9081291',\n",
       "  'CAM_BACK': 'e87b02d8f2a8492bb8f7ee2a56a2f333',\n",
       "  'CAM_BACK_LEFT': '16669049f4ee4002802420be681a4808',\n",
       "  'CAM_FRONT_LEFT': '1aee3a942f724548b9e2770f234b3eda'},\n",
       " 'anns': []}"
      ]
     },
     "execution_count": 3,
     "metadata": {},
     "output_type": "execute_result"
    }
   ],
   "source": [
    "nuscenes.get('sample', \"1160d3bc4c1341e9a51838639423f58e\")"
   ]
  },
  {
   "cell_type": "code",
   "execution_count": null,
   "metadata": {},
   "outputs": [],
   "source": []
  }
 ],
 "metadata": {
  "kernelspec": {
   "display_name": "nuscenes1",
   "language": "python",
   "name": "python3"
  },
  "language_info": {
   "codemirror_mode": {
    "name": "ipython",
    "version": 3
   },
   "file_extension": ".py",
   "mimetype": "text/x-python",
   "name": "python",
   "nbconvert_exporter": "python",
   "pygments_lexer": "ipython3",
   "version": "3.10.12"
  }
 },
 "nbformat": 4,
 "nbformat_minor": 2
}
